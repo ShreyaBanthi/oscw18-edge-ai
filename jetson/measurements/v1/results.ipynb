{
 "cells": [
  {
   "cell_type": "markdown",
   "metadata": {},
   "source": [
    "# Benchmarking NVIDIA TX1 using Inception v1"
   ]
  },
  {
   "cell_type": "markdown",
   "metadata": {},
   "source": [
    "# Environment setup\n",
    "To measure the current consumption I measured the voltage drop in a resistor.\n",
    "* The resistance was 1 Ohm ± 1% ([RS0051R000FE12](https://www.mouser.es/productdetail/vishay-dale/rs0051r000fe12?qs=%252b%2f1MMOhkBTf5JUBsk0YDOg==)). Two of them in parallel were used (0.5 Ohm).\n",
    "* The static current consumption of the setup before starting the inference (i.e. before executing `make VERSION=V1 infer`) was between 130 and 150 mA. This is the power drained by the NVIDIA TX1 Developer Kit running clean the Ubuntu version provided by NVIDIA, connected through Ethernet. For our calculations we've substracted this current to consider only the power consumption corresponding to the AI algorithm.\n",
    "\n",
    "![Setup](../setup.png)"
   ]
  },
  {
   "cell_type": "markdown",
   "metadata": {},
   "source": [
    "## Screenshot from the oscilloscope\n",
    "This screenshot shows the entire duration of the command `make VERSION=v1 infer`. The data that we will be using from the CSV corresponds to the peak in the middle. The last peak corresponds to the result analysis and the first part corresponds to the initialization of the system and the varialbles. We are mainly interested in the middle peak because usually we would not be performing a single inference. \n",
    "\n",
    "![Inference](inference.png)"
   ]
  },
  {
   "cell_type": "code",
   "execution_count": 1,
   "metadata": {},
   "outputs": [],
   "source": [
    "%matplotlib inline\n",
    "import pandas as pd\n",
    "\n",
    "import matplotlib\n",
    "import matplotlib.pyplot as plt"
   ]
  },
  {
   "cell_type": "markdown",
   "metadata": {},
   "source": [
    "## Output (accuracy and latency)"
   ]
  },
  {
   "cell_type": "code",
   "execution_count": 2,
   "metadata": {},
   "outputs": [
    {
     "name": "stdout",
     "output_type": "stream",
     "text": [
      "nvidia@tegra-ubuntu:~/oscw-doc1/jetson$ make infer VERSION=v1\n",
      "\n",
      "Running inferences on ../data/pic_002.jpg...\n",
      "(./build/classify_image/classify_image ../data/pic_002.jpg ./model/v1/inception_v1.plan ./model/v1/labels.txt input InceptionV1/Logits/Predictions/Reshape_1 inception)\n",
      "Loading TensorRT engine from plan file...\n",
      "Preprocessing input...\n",
      "Executing inference engine...\n",
      "Execution time: 92.6665 ms\n",
      "\n",
      "The top-5 indices are: \n",
      "0. 288:lynx, catamount (73.3887%)\n",
      "1. 283:tiger cat (7.87852%)\n",
      "2. 282:tabby, tabby cat (4.952%)\n",
      "3. 284:Persian cat (4.28776%)\n",
      "4. 286:Egyptian cat (1.15759%)\n"
     ]
    }
   ],
   "source": [
    "! cat output.txt"
   ]
  },
  {
   "cell_type": "code",
   "execution_count": 3,
   "metadata": {},
   "outputs": [],
   "source": [
    "latency = 92.667"
   ]
  },
  {
   "cell_type": "markdown",
   "metadata": {},
   "source": [
    "## Parse raw data "
   ]
  },
  {
   "cell_type": "code",
   "execution_count": 4,
   "metadata": {},
   "outputs": [
    {
     "data": {
      "text/plain": [
       "0.1"
      ]
     },
     "execution_count": 4,
     "metadata": {},
     "output_type": "execute_result"
    }
   ],
   "source": [
    "df_params = pd.read_csv(\"inference.csv\", nrows=1, usecols=['Start', 'Increment'])\n",
    "period_ms = df_params['Increment'][0] * 1000\n",
    "period_ms"
   ]
  },
  {
   "cell_type": "code",
   "execution_count": 5,
   "metadata": {},
   "outputs": [
    {
     "data": {
      "text/html": [
       "<div>\n",
       "<style scoped>\n",
       "    .dataframe tbody tr th:only-of-type {\n",
       "        vertical-align: middle;\n",
       "    }\n",
       "\n",
       "    .dataframe tbody tr th {\n",
       "        vertical-align: top;\n",
       "    }\n",
       "\n",
       "    .dataframe thead th {\n",
       "        text-align: right;\n",
       "    }\n",
       "</style>\n",
       "<table border=\"1\" class=\"dataframe\">\n",
       "  <thead>\n",
       "    <tr style=\"text-align: right;\">\n",
       "      <th></th>\n",
       "      <th>time [ms]</th>\n",
       "      <th>vout [V]</th>\n",
       "      <th>vin [V]</th>\n",
       "    </tr>\n",
       "  </thead>\n",
       "  <tbody>\n",
       "    <tr>\n",
       "      <th>0</th>\n",
       "      <td>0.0</td>\n",
       "      <td>9.05</td>\n",
       "      <td>9.12</td>\n",
       "    </tr>\n",
       "    <tr>\n",
       "      <th>1</th>\n",
       "      <td>0.1</td>\n",
       "      <td>9.09</td>\n",
       "      <td>9.16</td>\n",
       "    </tr>\n",
       "    <tr>\n",
       "      <th>2</th>\n",
       "      <td>0.2</td>\n",
       "      <td>9.05</td>\n",
       "      <td>9.13</td>\n",
       "    </tr>\n",
       "    <tr>\n",
       "      <th>3</th>\n",
       "      <td>0.3</td>\n",
       "      <td>9.09</td>\n",
       "      <td>9.16</td>\n",
       "    </tr>\n",
       "    <tr>\n",
       "      <th>4</th>\n",
       "      <td>0.4</td>\n",
       "      <td>9.09</td>\n",
       "      <td>9.17</td>\n",
       "    </tr>\n",
       "    <tr>\n",
       "      <th>5</th>\n",
       "      <td>0.5</td>\n",
       "      <td>9.06</td>\n",
       "      <td>9.14</td>\n",
       "    </tr>\n",
       "    <tr>\n",
       "      <th>6</th>\n",
       "      <td>0.6</td>\n",
       "      <td>9.08</td>\n",
       "      <td>9.17</td>\n",
       "    </tr>\n",
       "    <tr>\n",
       "      <th>7</th>\n",
       "      <td>0.7</td>\n",
       "      <td>9.05</td>\n",
       "      <td>9.13</td>\n",
       "    </tr>\n",
       "    <tr>\n",
       "      <th>8</th>\n",
       "      <td>0.8</td>\n",
       "      <td>9.06</td>\n",
       "      <td>9.15</td>\n",
       "    </tr>\n",
       "    <tr>\n",
       "      <th>9</th>\n",
       "      <td>0.9</td>\n",
       "      <td>9.09</td>\n",
       "      <td>9.12</td>\n",
       "    </tr>\n",
       "  </tbody>\n",
       "</table>\n",
       "</div>"
      ],
      "text/plain": [
       "   time [ms]  vout [V]  vin [V]\n",
       "0        0.0      9.05     9.12\n",
       "1        0.1      9.09     9.16\n",
       "2        0.2      9.05     9.13\n",
       "3        0.3      9.09     9.16\n",
       "4        0.4      9.09     9.17\n",
       "5        0.5      9.06     9.14\n",
       "6        0.6      9.08     9.17\n",
       "7        0.7      9.05     9.13\n",
       "8        0.8      9.06     9.15\n",
       "9        0.9      9.09     9.12"
      ]
     },
     "execution_count": 5,
     "metadata": {},
     "output_type": "execute_result"
    }
   ],
   "source": [
    "df_val = pd.read_csv(\"inference.csv\", skiprows=[1], usecols=['X', 'CH1', 'CH2'])\n",
    "df_val.loc[:, 'X'] *= period_ms\n",
    "\n",
    "df_val.rename(index=str, columns={'X': 'time [ms]', 'CH1': 'vout [V]', 'CH2': 'vin [V]'}, inplace=True)\n",
    "df_val[:10]"
   ]
  },
  {
   "cell_type": "markdown",
   "metadata": {},
   "source": [
    "# Obtaining power consumption"
   ]
  },
  {
   "cell_type": "code",
   "execution_count": 6,
   "metadata": {},
   "outputs": [
    {
     "data": {
      "text/html": [
       "<div>\n",
       "<style scoped>\n",
       "    .dataframe tbody tr th:only-of-type {\n",
       "        vertical-align: middle;\n",
       "    }\n",
       "\n",
       "    .dataframe tbody tr th {\n",
       "        vertical-align: top;\n",
       "    }\n",
       "\n",
       "    .dataframe thead th {\n",
       "        text-align: right;\n",
       "    }\n",
       "</style>\n",
       "<table border=\"1\" class=\"dataframe\">\n",
       "  <thead>\n",
       "    <tr style=\"text-align: right;\">\n",
       "      <th></th>\n",
       "      <th>time [ms]</th>\n",
       "      <th>vout [V]</th>\n",
       "      <th>vin [V]</th>\n",
       "      <th>total curr [mA]</th>\n",
       "      <th>curr [mA]</th>\n",
       "      <th>total pow [mW]</th>\n",
       "      <th>pow [mW]</th>\n",
       "    </tr>\n",
       "  </thead>\n",
       "  <tbody>\n",
       "    <tr>\n",
       "      <th>0</th>\n",
       "      <td>0.0</td>\n",
       "      <td>9.05</td>\n",
       "      <td>9.12</td>\n",
       "      <td>140.0</td>\n",
       "      <td>10.0</td>\n",
       "      <td>1267.0</td>\n",
       "      <td>90.5</td>\n",
       "    </tr>\n",
       "    <tr>\n",
       "      <th>1</th>\n",
       "      <td>0.1</td>\n",
       "      <td>9.09</td>\n",
       "      <td>9.16</td>\n",
       "      <td>140.0</td>\n",
       "      <td>10.0</td>\n",
       "      <td>1272.6</td>\n",
       "      <td>90.9</td>\n",
       "    </tr>\n",
       "    <tr>\n",
       "      <th>2</th>\n",
       "      <td>0.2</td>\n",
       "      <td>9.05</td>\n",
       "      <td>9.13</td>\n",
       "      <td>160.0</td>\n",
       "      <td>30.0</td>\n",
       "      <td>1448.0</td>\n",
       "      <td>271.5</td>\n",
       "    </tr>\n",
       "    <tr>\n",
       "      <th>3</th>\n",
       "      <td>0.3</td>\n",
       "      <td>9.09</td>\n",
       "      <td>9.16</td>\n",
       "      <td>140.0</td>\n",
       "      <td>10.0</td>\n",
       "      <td>1272.6</td>\n",
       "      <td>90.9</td>\n",
       "    </tr>\n",
       "    <tr>\n",
       "      <th>4</th>\n",
       "      <td>0.4</td>\n",
       "      <td>9.09</td>\n",
       "      <td>9.17</td>\n",
       "      <td>160.0</td>\n",
       "      <td>30.0</td>\n",
       "      <td>1454.4</td>\n",
       "      <td>272.7</td>\n",
       "    </tr>\n",
       "    <tr>\n",
       "      <th>5</th>\n",
       "      <td>0.5</td>\n",
       "      <td>9.06</td>\n",
       "      <td>9.14</td>\n",
       "      <td>160.0</td>\n",
       "      <td>30.0</td>\n",
       "      <td>1449.6</td>\n",
       "      <td>271.8</td>\n",
       "    </tr>\n",
       "    <tr>\n",
       "      <th>6</th>\n",
       "      <td>0.6</td>\n",
       "      <td>9.08</td>\n",
       "      <td>9.17</td>\n",
       "      <td>180.0</td>\n",
       "      <td>50.0</td>\n",
       "      <td>1634.4</td>\n",
       "      <td>454.0</td>\n",
       "    </tr>\n",
       "    <tr>\n",
       "      <th>7</th>\n",
       "      <td>0.7</td>\n",
       "      <td>9.05</td>\n",
       "      <td>9.13</td>\n",
       "      <td>160.0</td>\n",
       "      <td>30.0</td>\n",
       "      <td>1448.0</td>\n",
       "      <td>271.5</td>\n",
       "    </tr>\n",
       "    <tr>\n",
       "      <th>8</th>\n",
       "      <td>0.8</td>\n",
       "      <td>9.06</td>\n",
       "      <td>9.15</td>\n",
       "      <td>180.0</td>\n",
       "      <td>50.0</td>\n",
       "      <td>1630.8</td>\n",
       "      <td>453.0</td>\n",
       "    </tr>\n",
       "    <tr>\n",
       "      <th>9</th>\n",
       "      <td>0.9</td>\n",
       "      <td>9.09</td>\n",
       "      <td>9.12</td>\n",
       "      <td>60.0</td>\n",
       "      <td>-70.0</td>\n",
       "      <td>545.4</td>\n",
       "      <td>-636.3</td>\n",
       "    </tr>\n",
       "  </tbody>\n",
       "</table>\n",
       "</div>"
      ],
      "text/plain": [
       "   time [ms]  vout [V]  vin [V]  total curr [mA]  curr [mA]  total pow [mW]  \\\n",
       "0        0.0      9.05     9.12            140.0       10.0          1267.0   \n",
       "1        0.1      9.09     9.16            140.0       10.0          1272.6   \n",
       "2        0.2      9.05     9.13            160.0       30.0          1448.0   \n",
       "3        0.3      9.09     9.16            140.0       10.0          1272.6   \n",
       "4        0.4      9.09     9.17            160.0       30.0          1454.4   \n",
       "5        0.5      9.06     9.14            160.0       30.0          1449.6   \n",
       "6        0.6      9.08     9.17            180.0       50.0          1634.4   \n",
       "7        0.7      9.05     9.13            160.0       30.0          1448.0   \n",
       "8        0.8      9.06     9.15            180.0       50.0          1630.8   \n",
       "9        0.9      9.09     9.12             60.0      -70.0           545.4   \n",
       "\n",
       "   pow [mW]  \n",
       "0      90.5  \n",
       "1      90.9  \n",
       "2     271.5  \n",
       "3      90.9  \n",
       "4     272.7  \n",
       "5     271.8  \n",
       "6     454.0  \n",
       "7     271.5  \n",
       "8     453.0  \n",
       "9    -636.3  "
      ]
     },
     "execution_count": 6,
     "metadata": {},
     "output_type": "execute_result"
    }
   ],
   "source": [
    "R = 0.5 # ohm\n",
    "static_curr = 130 # [mA] lowest value to consider worst case scenario\n",
    "df_val['total curr [mA]'] = (df_val['vin [V]'] - df_val['vout [V]']) * 1000 / R\n",
    "df_val['curr [mA]'] = (df_val['vin [V]'] - df_val['vout [V]']) * 1000 / R - static_curr\n",
    "\n",
    "df_val['total pow [mW]'] = df_val['total curr [mA]'] * df_val['vout [V]']\n",
    "df_val['pow [mW]'] = df_val['curr [mA]'] * df_val['vout [V]']\n",
    "df_val[:10]"
   ]
  },
  {
   "cell_type": "code",
   "execution_count": 7,
   "metadata": {},
   "outputs": [
    {
     "data": {
      "text/plain": [
       "Text(0.5,1,'Power')"
      ]
     },
     "execution_count": 7,
     "metadata": {},
     "output_type": "execute_result"
    },
    {
     "data": {
      "image/png": "[encoded data removed]",
      "text/plain": [
       "<Figure size 600x400 with 2 Axes>"
      ]
     },
     "metadata": {},
     "output_type": "display_data"
    }
   ],
   "source": [
    "fig, (ax1, ax2) = plt.subplots(nrows=2, ncols=1, sharex=True, dpi=100)\n",
    "\n",
    "df_val.plot(ax=ax1, x='time [ms]', y='curr [mA]')\n",
    "ax1.set_title(\"Current\")\n",
    "df_val.plot(ax=ax2, x='time [ms]', y='pow [mW]')\n",
    "ax2.set_title(\"Power\")"
   ]
  },
  {
   "cell_type": "markdown",
   "metadata": {},
   "source": [
    "## Manually selecting when inference happens"
   ]
  },
  {
   "cell_type": "code",
   "execution_count": 8,
   "metadata": {},
   "outputs": [
    {
     "data": {
      "text/plain": [
       "<matplotlib.axes._subplots.AxesSubplot at 0x7fa344581390>"
      ]
     },
     "execution_count": 8,
     "metadata": {},
     "output_type": "execute_result"
    },
    {
     "data": {
      "image/png": "[encoded data removed]",
      "text/plain": [
       "<Figure size 432x288 with 1 Axes>"
      ]
     },
     "metadata": {},
     "output_type": "display_data"
    }
   ],
   "source": [
    "df_val = df_val.loc[df_val['time [ms]'] > 5]\n",
    "df_val = df_val.loc[df_val['time [ms]'] < 113]\n",
    "\n",
    "df_val.plot(x='time [ms]', y='curr [mA]')"
   ]
  },
  {
   "cell_type": "markdown",
   "metadata": {},
   "source": [
    "## Obtaining total energy consumption"
   ]
  },
  {
   "cell_type": "code",
   "execution_count": 9,
   "metadata": {},
   "outputs": [
    {
     "name": "stdout",
     "output_type": "stream",
     "text": [
      "Energy consumed during 1 inference:  0.005743 mAh\n",
      "Total energy consumed during 1 inference: 0.009639 mAh \n",
      "Peak power consumption 4326.700000 mW\n",
      "Total peak power consumption 5474.600000 mW\n"
     ]
    }
   ],
   "source": [
    "energy = df_val['curr [mA]'].sum() * period_ms # mA*ms\n",
    "energy /= (1000 * 3600) # mAh\n",
    "\n",
    "energy_tot = df_val['total curr [mA]'].sum() * period_ms # mA*ms\n",
    "energy_tot /= (1000 * 3600) # mAh\n",
    "\n",
    "max_power = max(df_val['pow [mW]'])\n",
    "max_power_tot = max(df_val['total pow [mW]'])\n",
    "\n",
    "print(\"Energy consumed during 1 inference:  %f mAh\" % energy)\n",
    "print(\"Total energy consumed during 1 inference: %f mAh \" % energy_tot)\n",
    "print(\"Peak power consumption %f mW\" % max_power)\n",
    "print(\"Total peak power consumption %f mW\" % max_power_tot)"
   ]
  },
  {
   "cell_type": "markdown",
   "metadata": {},
   "source": [
    "## Battery analysis"
   ]
  },
  {
   "cell_type": "code",
   "execution_count": 10,
   "metadata": {},
   "outputs": [
    {
     "name": "stdout",
     "output_type": "stream",
     "text": [
      "Max FPS = 10.791328\n"
     ]
    }
   ],
   "source": [
    "fps_max = 1/(latency/1000.0)\n",
    "print('Max FPS = %f' % fps_max)"
   ]
  },
  {
   "cell_type": "code",
   "execution_count": 11,
   "metadata": {},
   "outputs": [
    {
     "data": {
      "text/plain": [
       "[<matplotlib.lines.Line2D at 0x7fa34a4d7f60>]"
      ]
     },
     "execution_count": 11,
     "metadata": {},
     "output_type": "execute_result"
    },
    {
     "data": {
      "image/png": "[encoded data removed]",
      "text/plain": [
       "<Figure size 432x288 with 1 Axes>"
      ]
     },
     "metadata": {},
     "output_type": "display_data"
    }
   ],
   "source": [
    "cap = range(500, 3500, 250) # Ranges of battery capacities we're interested on\n",
    "inf_num = (cap / energy)\n",
    "plt.title('Inferences per battery')\n",
    "plt.xlabel('Capacity (mAh)')\n",
    "plt.ylabel('Num of inferences')\n",
    "plt.plot(cap, inf_num, marker='o')"
   ]
  },
  {
   "cell_type": "code",
   "execution_count": 12,
   "metadata": {},
   "outputs": [
    {
     "name": "stdout",
     "output_type": "stream",
     "text": [
      "With 500 mAh, 87061 inferences can be done\n",
      "With 1000 mAh, 174123 inferences can be done\n",
      "With 1500 mAh, 261185 inferences can be done\n"
     ]
    }
   ],
   "source": [
    "print('With 500 mAh, %i inferences can be done' % inf_num[cap.index(500)])\n",
    "print('With 1000 mAh, %i inferences can be done' % inf_num[cap.index(1000)])\n",
    "print('With 1500 mAh, %i inferences can be done' % inf_num[cap.index(1500)])"
   ]
  },
  {
   "cell_type": "code",
   "execution_count": 13,
   "metadata": {},
   "outputs": [
    {
     "data": {
      "text/plain": [
       "[<matplotlib.lines.Line2D at 0x7fa344466f60>]"
      ]
     },
     "execution_count": 13,
     "metadata": {},
     "output_type": "execute_result"
    },
    {
     "data": {
      "image/png": "[encoded data removed]",
      "text/plain": [
       "<Figure size 432x288 with 1 Axes>"
      ]
     },
     "metadata": {},
     "output_type": "display_data"
    }
   ],
   "source": [
    "plt.title('Battery life @ FPS max')\n",
    "plt.xlabel('Capacity (mAh)')\n",
    "plt.ylabel('Battery life (min)')\n",
    "batt_life = inf_num/(fps_max * 60)\n",
    "plt.plot(cap, batt_life, marker='o')"
   ]
  },
  {
   "cell_type": "code",
   "execution_count": 14,
   "metadata": {},
   "outputs": [
    {
     "name": "stdout",
     "output_type": "stream",
     "text": [
      "A 500 mAh battery lasts 134 min\n",
      "A 1000 mAh battery lasts 268 min\n",
      "A 1500 mAh battery lasts 403 min\n"
     ]
    }
   ],
   "source": [
    "print('A 500 mAh battery lasts %i min' % batt_life[cap.index(500)])\n",
    "print('A 1000 mAh battery lasts %i min' % batt_life[cap.index(1000)])\n",
    "print('A 1500 mAh battery lasts %i min' % batt_life[cap.index(1500)])"
   ]
  }
 ],
 "metadata": {
  "kernelspec": {
   "display_name": "Python 3",
   "language": "python",
   "name": "python3"
  },
  "language_info": {
   "codemirror_mode": {
    "name": "ipython",
    "version": 3
   },
   "file_extension": ".py",
   "mimetype": "text/x-python",
   "name": "python",
   "nbconvert_exporter": "python",
   "pygments_lexer": "ipython3",
   "version": "3.6.5"
  }
 },
 "nbformat": 4,
 "nbformat_minor": 2
}
