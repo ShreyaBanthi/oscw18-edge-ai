{
 "cells": [
  {
   "cell_type": "markdown",
   "metadata": {},
   "source": [
    "# Benchmarking NVIDIA TX1 using Inception v2"
   ]
  },
  {
   "cell_type": "markdown",
   "metadata": {},
   "source": [
    "# Environment setup\n",
    "To measure the current consumption I measured the voltage drop in a resistor.\n",
    "* The resistance was 1 Ohm ± 1% ([RS0051R000FE12](https://www.mouser.es/productdetail/vishay-dale/rs0051r000fe12?qs=%252b%2f1MMOhkBTf5JUBsk0YDOg==)). Two of them in parallel were used (0.5 Ohm).\n",
    "* The static current consumption of the setup before starting the inference (i.e. before executing `make VERSION=V1 infer`) was between 130 and 150 mA. This is the power drained by the NVIDIA TX1 Developer Kit running clean the Ubuntu version provided by NVIDIA, connected through Ethernet. For our calculations we've substracted this current to consider only the power consumption corresponding to the AI algorithm.\n",
    "\n",
    "![Setup](../setup.png)"
   ]
  },
  {
   "cell_type": "markdown",
   "metadata": {},
   "source": [
    "## Screenshot from the oscilloscope\n",
    "This screenshot shows the entire duration of the command `make VERSION=v1 infer`. The data that we will be using from the CSV corresponds to the peak in the middle. The last peak corresponds to the result analysis and the first part corresponds to the initialization of the system and the varialbles. We are mainly interested in the middle peak because usually we would not be performing a single inference. \n",
    "\n",
    "![Inference](inference.png)"
   ]
  },
  {
   "cell_type": "code",
   "execution_count": 1,
   "metadata": {},
   "outputs": [],
   "source": [
    "%matplotlib inline\n",
    "import pandas as pd\n",
    "\n",
    "import matplotlib\n",
    "import matplotlib.pyplot as plt"
   ]
  },
  {
   "cell_type": "markdown",
   "metadata": {},
   "source": [
    "## Output (accuracy and latency)"
   ]
  },
  {
   "cell_type": "code",
   "execution_count": 2,
   "metadata": {},
   "outputs": [
    {
     "name": "stdout",
     "output_type": "stream",
     "text": [
      "nvidia@tegra-ubuntu:~/oscw-doc1/jetson$ make infer VERSION=v2\n",
      "\n",
      "Running inferences on ../data/pic_002.jpg...\n",
      "(./build/classify_image/classify_image ../data/pic_002.jpg ./model/v2/inception_v2.plan ./model/v2/labels.txt input InceptionV2/Predictions/Reshape_1 inception)\n",
      "Loading TensorRT engine from plan file...\n",
      "Preprocessing input...\n",
      "Executing inference engine...\n",
      "Execution time: 119.918 ms\n",
      "\n",
      "The top-5 indices are: \n",
      "0. 905:window screen (36.9424%)\n",
      "1. 620:lampshade, lamp shade (10.8162%)\n",
      "2. 557:fire screen, fireguard (8.27163%)\n",
      "3. 855:theater curtain, theatre curtain (8.10073%)\n",
      "4. 670:mosquito net (3.09301%)\n"
     ]
    }
   ],
   "source": [
    "! cat output.txt"
   ]
  },
  {
   "cell_type": "code",
   "execution_count": 3,
   "metadata": {},
   "outputs": [],
   "source": [
    "latency = 119.918"
   ]
  },
  {
   "cell_type": "markdown",
   "metadata": {},
   "source": [
    "## Parse raw data "
   ]
  },
  {
   "cell_type": "code",
   "execution_count": 4,
   "metadata": {},
   "outputs": [
    {
     "data": {
      "text/plain": [
       "0.2"
      ]
     },
     "execution_count": 4,
     "metadata": {},
     "output_type": "execute_result"
    }
   ],
   "source": [
    "df_params = pd.read_csv(\"inference.csv\", nrows=1, usecols=['Start', 'Increment'])\n",
    "period_ms = df_params['Increment'][0] * 1000\n",
    "period_ms"
   ]
  },
  {
   "cell_type": "code",
   "execution_count": 5,
   "metadata": {},
   "outputs": [
    {
     "data": {
      "text/html": [
       "<div>\n",
       "<style scoped>\n",
       "    .dataframe tbody tr th:only-of-type {\n",
       "        vertical-align: middle;\n",
       "    }\n",
       "\n",
       "    .dataframe tbody tr th {\n",
       "        vertical-align: top;\n",
       "    }\n",
       "\n",
       "    .dataframe thead th {\n",
       "        text-align: right;\n",
       "    }\n",
       "</style>\n",
       "<table border=\"1\" class=\"dataframe\">\n",
       "  <thead>\n",
       "    <tr style=\"text-align: right;\">\n",
       "      <th></th>\n",
       "      <th>time [ms]</th>\n",
       "      <th>vout [V]</th>\n",
       "      <th>vin [V]</th>\n",
       "    </tr>\n",
       "  </thead>\n",
       "  <tbody>\n",
       "    <tr>\n",
       "      <th>0</th>\n",
       "      <td>0.0</td>\n",
       "      <td>9.09</td>\n",
       "      <td>9.13</td>\n",
       "    </tr>\n",
       "    <tr>\n",
       "      <th>1</th>\n",
       "      <td>0.2</td>\n",
       "      <td>9.06</td>\n",
       "      <td>9.16</td>\n",
       "    </tr>\n",
       "    <tr>\n",
       "      <th>2</th>\n",
       "      <td>0.4</td>\n",
       "      <td>9.09</td>\n",
       "      <td>9.13</td>\n",
       "    </tr>\n",
       "    <tr>\n",
       "      <th>3</th>\n",
       "      <td>0.6</td>\n",
       "      <td>9.06</td>\n",
       "      <td>9.17</td>\n",
       "    </tr>\n",
       "    <tr>\n",
       "      <th>4</th>\n",
       "      <td>0.8</td>\n",
       "      <td>9.08</td>\n",
       "      <td>9.16</td>\n",
       "    </tr>\n",
       "    <tr>\n",
       "      <th>5</th>\n",
       "      <td>1.0</td>\n",
       "      <td>9.06</td>\n",
       "      <td>9.13</td>\n",
       "    </tr>\n",
       "    <tr>\n",
       "      <th>6</th>\n",
       "      <td>1.2</td>\n",
       "      <td>9.08</td>\n",
       "      <td>9.12</td>\n",
       "    </tr>\n",
       "    <tr>\n",
       "      <th>7</th>\n",
       "      <td>1.4</td>\n",
       "      <td>9.06</td>\n",
       "      <td>9.16</td>\n",
       "    </tr>\n",
       "    <tr>\n",
       "      <th>8</th>\n",
       "      <td>1.6</td>\n",
       "      <td>9.09</td>\n",
       "      <td>9.13</td>\n",
       "    </tr>\n",
       "    <tr>\n",
       "      <th>9</th>\n",
       "      <td>1.8</td>\n",
       "      <td>9.05</td>\n",
       "      <td>9.17</td>\n",
       "    </tr>\n",
       "  </tbody>\n",
       "</table>\n",
       "</div>"
      ],
      "text/plain": [
       "   time [ms]  vout [V]  vin [V]\n",
       "0        0.0      9.09     9.13\n",
       "1        0.2      9.06     9.16\n",
       "2        0.4      9.09     9.13\n",
       "3        0.6      9.06     9.17\n",
       "4        0.8      9.08     9.16\n",
       "5        1.0      9.06     9.13\n",
       "6        1.2      9.08     9.12\n",
       "7        1.4      9.06     9.16\n",
       "8        1.6      9.09     9.13\n",
       "9        1.8      9.05     9.17"
      ]
     },
     "execution_count": 5,
     "metadata": {},
     "output_type": "execute_result"
    }
   ],
   "source": [
    "df_val = pd.read_csv(\"inference.csv\", skiprows=[1], usecols=['X', 'CH1', 'CH2'])\n",
    "df_val.loc[:, 'X'] *= period_ms\n",
    "\n",
    "df_val.rename(index=str, columns={'X': 'time [ms]', 'CH1': 'vout [V]', 'CH2': 'vin [V]'}, inplace=True)\n",
    "df_val[:10]"
   ]
  },
  {
   "cell_type": "markdown",
   "metadata": {},
   "source": [
    "# Obtaining power consumption"
   ]
  },
  {
   "cell_type": "code",
   "execution_count": 6,
   "metadata": {},
   "outputs": [
    {
     "data": {
      "text/html": [
       "<div>\n",
       "<style scoped>\n",
       "    .dataframe tbody tr th:only-of-type {\n",
       "        vertical-align: middle;\n",
       "    }\n",
       "\n",
       "    .dataframe tbody tr th {\n",
       "        vertical-align: top;\n",
       "    }\n",
       "\n",
       "    .dataframe thead th {\n",
       "        text-align: right;\n",
       "    }\n",
       "</style>\n",
       "<table border=\"1\" class=\"dataframe\">\n",
       "  <thead>\n",
       "    <tr style=\"text-align: right;\">\n",
       "      <th></th>\n",
       "      <th>time [ms]</th>\n",
       "      <th>vout [V]</th>\n",
       "      <th>vin [V]</th>\n",
       "      <th>total curr [mA]</th>\n",
       "      <th>curr [mA]</th>\n",
       "      <th>total pow [mW]</th>\n",
       "      <th>pow [mW]</th>\n",
       "    </tr>\n",
       "  </thead>\n",
       "  <tbody>\n",
       "    <tr>\n",
       "      <th>0</th>\n",
       "      <td>0.0</td>\n",
       "      <td>9.09</td>\n",
       "      <td>9.13</td>\n",
       "      <td>80.0</td>\n",
       "      <td>-50.0</td>\n",
       "      <td>727.2</td>\n",
       "      <td>-454.5</td>\n",
       "    </tr>\n",
       "    <tr>\n",
       "      <th>1</th>\n",
       "      <td>0.2</td>\n",
       "      <td>9.06</td>\n",
       "      <td>9.16</td>\n",
       "      <td>200.0</td>\n",
       "      <td>70.0</td>\n",
       "      <td>1812.0</td>\n",
       "      <td>634.2</td>\n",
       "    </tr>\n",
       "    <tr>\n",
       "      <th>2</th>\n",
       "      <td>0.4</td>\n",
       "      <td>9.09</td>\n",
       "      <td>9.13</td>\n",
       "      <td>80.0</td>\n",
       "      <td>-50.0</td>\n",
       "      <td>727.2</td>\n",
       "      <td>-454.5</td>\n",
       "    </tr>\n",
       "    <tr>\n",
       "      <th>3</th>\n",
       "      <td>0.6</td>\n",
       "      <td>9.06</td>\n",
       "      <td>9.17</td>\n",
       "      <td>220.0</td>\n",
       "      <td>90.0</td>\n",
       "      <td>1993.2</td>\n",
       "      <td>815.4</td>\n",
       "    </tr>\n",
       "    <tr>\n",
       "      <th>4</th>\n",
       "      <td>0.8</td>\n",
       "      <td>9.08</td>\n",
       "      <td>9.16</td>\n",
       "      <td>160.0</td>\n",
       "      <td>30.0</td>\n",
       "      <td>1452.8</td>\n",
       "      <td>272.4</td>\n",
       "    </tr>\n",
       "    <tr>\n",
       "      <th>5</th>\n",
       "      <td>1.0</td>\n",
       "      <td>9.06</td>\n",
       "      <td>9.13</td>\n",
       "      <td>140.0</td>\n",
       "      <td>10.0</td>\n",
       "      <td>1268.4</td>\n",
       "      <td>90.6</td>\n",
       "    </tr>\n",
       "    <tr>\n",
       "      <th>6</th>\n",
       "      <td>1.2</td>\n",
       "      <td>9.08</td>\n",
       "      <td>9.12</td>\n",
       "      <td>80.0</td>\n",
       "      <td>-50.0</td>\n",
       "      <td>726.4</td>\n",
       "      <td>-454.0</td>\n",
       "    </tr>\n",
       "    <tr>\n",
       "      <th>7</th>\n",
       "      <td>1.4</td>\n",
       "      <td>9.06</td>\n",
       "      <td>9.16</td>\n",
       "      <td>200.0</td>\n",
       "      <td>70.0</td>\n",
       "      <td>1812.0</td>\n",
       "      <td>634.2</td>\n",
       "    </tr>\n",
       "    <tr>\n",
       "      <th>8</th>\n",
       "      <td>1.6</td>\n",
       "      <td>9.09</td>\n",
       "      <td>9.13</td>\n",
       "      <td>80.0</td>\n",
       "      <td>-50.0</td>\n",
       "      <td>727.2</td>\n",
       "      <td>-454.5</td>\n",
       "    </tr>\n",
       "    <tr>\n",
       "      <th>9</th>\n",
       "      <td>1.8</td>\n",
       "      <td>9.05</td>\n",
       "      <td>9.17</td>\n",
       "      <td>240.0</td>\n",
       "      <td>110.0</td>\n",
       "      <td>2172.0</td>\n",
       "      <td>995.5</td>\n",
       "    </tr>\n",
       "  </tbody>\n",
       "</table>\n",
       "</div>"
      ],
      "text/plain": [
       "   time [ms]  vout [V]  vin [V]  total curr [mA]  curr [mA]  total pow [mW]  \\\n",
       "0        0.0      9.09     9.13             80.0      -50.0           727.2   \n",
       "1        0.2      9.06     9.16            200.0       70.0          1812.0   \n",
       "2        0.4      9.09     9.13             80.0      -50.0           727.2   \n",
       "3        0.6      9.06     9.17            220.0       90.0          1993.2   \n",
       "4        0.8      9.08     9.16            160.0       30.0          1452.8   \n",
       "5        1.0      9.06     9.13            140.0       10.0          1268.4   \n",
       "6        1.2      9.08     9.12             80.0      -50.0           726.4   \n",
       "7        1.4      9.06     9.16            200.0       70.0          1812.0   \n",
       "8        1.6      9.09     9.13             80.0      -50.0           727.2   \n",
       "9        1.8      9.05     9.17            240.0      110.0          2172.0   \n",
       "\n",
       "   pow [mW]  \n",
       "0    -454.5  \n",
       "1     634.2  \n",
       "2    -454.5  \n",
       "3     815.4  \n",
       "4     272.4  \n",
       "5      90.6  \n",
       "6    -454.0  \n",
       "7     634.2  \n",
       "8    -454.5  \n",
       "9     995.5  "
      ]
     },
     "execution_count": 6,
     "metadata": {},
     "output_type": "execute_result"
    }
   ],
   "source": [
    "R = 0.5 # ohm\n",
    "static_curr = 130 # [mA] lowest value to consider worst case scenario\n",
    "df_val['total curr [mA]'] = (df_val['vin [V]'] - df_val['vout [V]']) * 1000 / R\n",
    "df_val['curr [mA]'] = (df_val['vin [V]'] - df_val['vout [V]']) * 1000 / R - static_curr\n",
    "\n",
    "df_val['total pow [mW]'] = df_val['total curr [mA]'] * df_val['vout [V]']\n",
    "df_val['pow [mW]'] = df_val['curr [mA]'] * df_val['vout [V]']\n",
    "df_val[:10]"
   ]
  },
  {
   "cell_type": "code",
   "execution_count": 7,
   "metadata": {},
   "outputs": [
    {
     "data": {
      "text/plain": [
       "Text(0.5,1,'Power')"
      ]
     },
     "execution_count": 7,
     "metadata": {},
     "output_type": "execute_result"
    },
    {
     "data": {
      "image/png": "[encoded data removed]",
      "text/plain": [
       "<Figure size 600x400 with 2 Axes>"
      ]
     },
     "metadata": {},
     "output_type": "display_data"
    }
   ],
   "source": [
    "fig, (ax1, ax2) = plt.subplots(nrows=2, ncols=1, sharex=True, dpi=100)\n",
    "\n",
    "df_val.plot(ax=ax1, x='time [ms]', y='curr [mA]')\n",
    "ax1.set_title(\"Current\")\n",
    "df_val.plot(ax=ax2, x='time [ms]', y='pow [mW]')\n",
    "ax2.set_title(\"Power\")"
   ]
  },
  {
   "cell_type": "markdown",
   "metadata": {},
   "source": [
    "## Manually selecting when inference happens"
   ]
  },
  {
   "cell_type": "code",
   "execution_count": 8,
   "metadata": {},
   "outputs": [
    {
     "data": {
      "text/plain": [
       "<matplotlib.axes._subplots.AxesSubplot at 0x7f91c8ef6da0>"
      ]
     },
     "execution_count": 8,
     "metadata": {},
     "output_type": "execute_result"
    },
    {
     "data": {
      "image/png": "[encoded data removed]",
      "text/plain": [
       "<Figure size 432x288 with 1 Axes>"
      ]
     },
     "metadata": {},
     "output_type": "display_data"
    }
   ],
   "source": [
    "df_val = df_val.loc[df_val['time [ms]'] > 53]\n",
    "df_val = df_val.loc[df_val['time [ms]'] < 190]\n",
    "\n",
    "df_val.plot(x='time [ms]', y='curr [mA]')"
   ]
  },
  {
   "cell_type": "markdown",
   "metadata": {},
   "source": [
    "## Obtaining total energy consumption"
   ]
  },
  {
   "cell_type": "code",
   "execution_count": 9,
   "metadata": {},
   "outputs": [
    {
     "name": "stdout",
     "output_type": "stream",
     "text": [
      "Energy consumed during 1 inference:  0.006801 mAh\n",
      "Total energy consumed during 1 inference: 0.011741 mAh \n",
      "Peak power consumption 5174.300000 mW\n",
      "Total peak power consumption 6314.400000 mW\n"
     ]
    }
   ],
   "source": [
    "energy = df_val['curr [mA]'].sum() * period_ms # mA*ms\n",
    "energy /= (1000 * 3600) # mAh\n",
    "\n",
    "energy_tot = df_val['total curr [mA]'].sum() * period_ms # mA*ms\n",
    "energy_tot /= (1000 * 3600) # mAh\n",
    "\n",
    "max_power = max(df_val['pow [mW]'])\n",
    "max_power_tot = max(df_val['total pow [mW]'])\n",
    "\n",
    "print(\"Energy consumed during 1 inference:  %f mAh\" % energy)\n",
    "print(\"Total energy consumed during 1 inference: %f mAh \" % energy_tot)\n",
    "print(\"Peak power consumption %f mW\" % max_power)\n",
    "print(\"Total peak power consumption %f mW\" % max_power_tot)"
   ]
  },
  {
   "cell_type": "markdown",
   "metadata": {},
   "source": [
    "## Battery analysis"
   ]
  },
  {
   "cell_type": "code",
   "execution_count": 10,
   "metadata": {},
   "outputs": [
    {
     "name": "stdout",
     "output_type": "stream",
     "text": [
      "Max FPS = 8.339032\n"
     ]
    }
   ],
   "source": [
    "fps_max = 1/(latency/1000.0)\n",
    "print('Max FPS = %f' % fps_max)"
   ]
  },
  {
   "cell_type": "code",
   "execution_count": 11,
   "metadata": {},
   "outputs": [
    {
     "data": {
      "text/plain": [
       "[<matplotlib.lines.Line2D at 0x7f91c8f5aac8>]"
      ]
     },
     "execution_count": 11,
     "metadata": {},
     "output_type": "execute_result"
    },
    {
     "data": {
      "image/png": "[encoded data removed]",
      "text/plain": [
       "<Figure size 432x288 with 1 Axes>"
      ]
     },
     "metadata": {},
     "output_type": "display_data"
    }
   ],
   "source": [
    "cap = range(500, 3500, 250) # Ranges of battery capacities we're interested on\n",
    "inf_num = (cap / energy)\n",
    "plt.title('Inferences per battery')\n",
    "plt.xlabel('Capacity (mAh)')\n",
    "plt.ylabel('Num of inferences')\n",
    "plt.plot(cap, inf_num, marker='o')"
   ]
  },
  {
   "cell_type": "code",
   "execution_count": 12,
   "metadata": {},
   "outputs": [
    {
     "name": "stdout",
     "output_type": "stream",
     "text": [
      "With 500 mAh, 73517 inferences can be done\n",
      "With 1000 mAh, 147034 inferences can be done\n",
      "With 1500 mAh, 220552 inferences can be done\n"
     ]
    }
   ],
   "source": [
    "print('With 500 mAh, %i inferences can be done' % inf_num[cap.index(500)])\n",
    "print('With 1000 mAh, %i inferences can be done' % inf_num[cap.index(1000)])\n",
    "print('With 1500 mAh, %i inferences can be done' % inf_num[cap.index(1500)])"
   ]
  },
  {
   "cell_type": "code",
   "execution_count": 13,
   "metadata": {},
   "outputs": [
    {
     "data": {
      "text/plain": [
       "[<matplotlib.lines.Line2D at 0x7f91c8dfeb00>]"
      ]
     },
     "execution_count": 13,
     "metadata": {},
     "output_type": "execute_result"
    },
    {
     "data": {
      "image/png": "[encoded data removed]",
      "text/plain": [
       "<Figure size 432x288 with 1 Axes>"
      ]
     },
     "metadata": {},
     "output_type": "display_data"
    }
   ],
   "source": [
    "plt.title('Battery life @ FPS max')\n",
    "plt.xlabel('Capacity (mAh)')\n",
    "plt.ylabel('Battery life (min)')\n",
    "batt_life = inf_num/(fps_max * 60)\n",
    "plt.plot(cap, batt_life, marker='o')"
   ]
  },
  {
   "cell_type": "code",
   "execution_count": 14,
   "metadata": {},
   "outputs": [
    {
     "name": "stdout",
     "output_type": "stream",
     "text": [
      "A 500 mAh battery lasts 146 min\n",
      "A 1000 mAh battery lasts 293 min\n",
      "A 1500 mAh battery lasts 440 min\n"
     ]
    }
   ],
   "source": [
    "print('A 500 mAh battery lasts %i min' % batt_life[cap.index(500)])\n",
    "print('A 1000 mAh battery lasts %i min' % batt_life[cap.index(1000)])\n",
    "print('A 1500 mAh battery lasts %i min' % batt_life[cap.index(1500)])"
   ]
  }
 ],
 "metadata": {
  "kernelspec": {
   "display_name": "Python 3",
   "language": "python",
   "name": "python3"
  },
  "language_info": {
   "codemirror_mode": {
    "name": "ipython",
    "version": 3
   },
   "file_extension": ".py",
   "mimetype": "text/x-python",
   "name": "python",
   "nbconvert_exporter": "python",
   "pygments_lexer": "ipython3",
   "version": "3.6.5"
  }
 },
 "nbformat": 4,
 "nbformat_minor": 2
}
