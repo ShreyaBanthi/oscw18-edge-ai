{
 "cells": [
  {
   "cell_type": "markdown",
   "metadata": {},
   "source": [
    "# Benchmarking Raspberry Pi + Intel Movidius using Inception v4"
   ]
  },
  {
   "cell_type": "markdown",
   "metadata": {},
   "source": [
    "# Environment setup\n",
    "To measure the current consumption I measured the voltage drop in a resistor.\n",
    "* The resistor was supposed to be 1 Ohm ± 1% ([RS0051R000FE12](https://www.mouser.es/productdetail/vishay-dale/rs0051r000fe12?qs=%252b%2f1MMOhkBTf5JUBsk0YDOg==)), but when measuring with the multimiter it turned out to be 1.6 Ohms.\n",
    "* The 10x attenuator was enabled in the oscilloscope probes but not on the scope. This means that to obtain the real voltages, the data has to be multiplied by ten.\n",
    "* The voltage input was actually not 5V. It was a bit higher to feed the Raspberry Pi with a value closer to 5V when the current consumption increased.\n",
    "* The static current consumption of the setup before starting the inference (i.e. before executing `make VERSION=V4 infer`) was between 200 and 300 mA. This is the power drained by Raspberry Pi B+ v1.2 running clean Raspbian (with the Movidius tools installed), connected through Ethernet.\n",
    "\n",
    "![Setup](../setup.png)"
   ]
  },
  {
   "cell_type": "markdown",
   "metadata": {},
   "source": [
    "## Screenshot from the oscilloscope\n",
    "This screenshot shows the entire duration of the command `make VERSION=v1 infer`. The data that we will be using from the CSV corresponds to the second peak and each peak corresponds to one inference. Since the first one initialises some data structures that will be reused in the upcoming inferences, we discard it because usually we would not be performing a single analysis. \n",
    "\n",
    "![2x inferences](2x_inferences.png)"
   ]
  },
  {
   "cell_type": "code",
   "execution_count": 1,
   "metadata": {},
   "outputs": [],
   "source": [
    "%matplotlib inline\n",
    "import pandas as pd\n",
    "\n",
    "import matplotlib\n",
    "import matplotlib.pyplot as plt"
   ]
  },
  {
   "cell_type": "markdown",
   "metadata": {},
   "source": [
    "## Output (accuracy and latency)"
   ]
  },
  {
   "cell_type": "code",
   "execution_count": 2,
   "metadata": {},
   "outputs": [
    {
     "name": "stdout",
     "output_type": "stream",
     "text": [
      "pi@raspberrypi:~/oscw18-edge-ai/movidius $ make VERSION=v4 infer INPUT=data/pic_002.jpg \n",
      "\n",
      "Running inferences on data/pic_002.jpg...\n",
      "(python3 image-classifier.py --graph ./model/v4/inception_v4_ncgraph --dim 299 299 --mean 127.5 --scale 0.00789 --colormode \"RGB\" --labels ./model/v4/labels.txt --image data/pic_002.jpg)\n",
      "\n",
      "==============================================================\n",
      "Top predictions for pic_002.jpg\n",
      "Execution time: 635.782ms\n",
      "--------------------------------------------------------------\n",
      "91.4%   288:lynx, catamount\n",
      "0.8%    282:tabby, tabby cat\n",
      "0.3%    283:tiger cat\n",
      "0.2%    284:Persian cat\n",
      "0.2%    286:Egyptian cat\n",
      "==============================================================\n"
     ]
    }
   ],
   "source": [
    "! cat output.txt"
   ]
  },
  {
   "cell_type": "code",
   "execution_count": 3,
   "metadata": {},
   "outputs": [],
   "source": [
    "latency = 635.782"
   ]
  },
  {
   "cell_type": "markdown",
   "metadata": {},
   "source": [
    "## Parse raw data "
   ]
  },
  {
   "cell_type": "code",
   "execution_count": 4,
   "metadata": {},
   "outputs": [
    {
     "data": {
      "text/plain": [
       "1.0"
      ]
     },
     "execution_count": 4,
     "metadata": {},
     "output_type": "execute_result"
    }
   ],
   "source": [
    "df_params = pd.read_csv(\"second_inference.csv\", nrows=1, usecols=['Start', 'Increment'])\n",
    "period_ms = df_params['Increment'][0] * 1000\n",
    "period_ms"
   ]
  },
  {
   "cell_type": "code",
   "execution_count": 5,
   "metadata": {},
   "outputs": [
    {
     "data": {
      "text/html": [
       "<div>\n",
       "<style scoped>\n",
       "    .dataframe tbody tr th:only-of-type {\n",
       "        vertical-align: middle;\n",
       "    }\n",
       "\n",
       "    .dataframe tbody tr th {\n",
       "        vertical-align: top;\n",
       "    }\n",
       "\n",
       "    .dataframe thead th {\n",
       "        text-align: right;\n",
       "    }\n",
       "</style>\n",
       "<table border=\"1\" class=\"dataframe\">\n",
       "  <thead>\n",
       "    <tr style=\"text-align: right;\">\n",
       "      <th></th>\n",
       "      <th>time [ms]</th>\n",
       "      <th>vout [V]</th>\n",
       "      <th>vin [V]</th>\n",
       "    </tr>\n",
       "  </thead>\n",
       "  <tbody>\n",
       "    <tr>\n",
       "      <th>0</th>\n",
       "      <td>0.0</td>\n",
       "      <td>4.39</td>\n",
       "      <td>5.22</td>\n",
       "    </tr>\n",
       "    <tr>\n",
       "      <th>1</th>\n",
       "      <td>1.0</td>\n",
       "      <td>4.72</td>\n",
       "      <td>5.29</td>\n",
       "    </tr>\n",
       "    <tr>\n",
       "      <th>2</th>\n",
       "      <td>2.0</td>\n",
       "      <td>4.45</td>\n",
       "      <td>5.23</td>\n",
       "    </tr>\n",
       "    <tr>\n",
       "      <th>3</th>\n",
       "      <td>3.0</td>\n",
       "      <td>4.65</td>\n",
       "      <td>5.28</td>\n",
       "    </tr>\n",
       "    <tr>\n",
       "      <th>4</th>\n",
       "      <td>4.0</td>\n",
       "      <td>4.45</td>\n",
       "      <td>5.28</td>\n",
       "    </tr>\n",
       "    <tr>\n",
       "      <th>5</th>\n",
       "      <td>5.0</td>\n",
       "      <td>4.65</td>\n",
       "      <td>5.23</td>\n",
       "    </tr>\n",
       "    <tr>\n",
       "      <th>6</th>\n",
       "      <td>6.0</td>\n",
       "      <td>4.74</td>\n",
       "      <td>5.29</td>\n",
       "    </tr>\n",
       "    <tr>\n",
       "      <th>7</th>\n",
       "      <td>7.0</td>\n",
       "      <td>4.41</td>\n",
       "      <td>5.22</td>\n",
       "    </tr>\n",
       "    <tr>\n",
       "      <th>8</th>\n",
       "      <td>8.0</td>\n",
       "      <td>4.67</td>\n",
       "      <td>5.28</td>\n",
       "    </tr>\n",
       "    <tr>\n",
       "      <th>9</th>\n",
       "      <td>9.0</td>\n",
       "      <td>4.34</td>\n",
       "      <td>5.21</td>\n",
       "    </tr>\n",
       "  </tbody>\n",
       "</table>\n",
       "</div>"
      ],
      "text/plain": [
       "   time [ms]  vout [V]  vin [V]\n",
       "0        0.0      4.39     5.22\n",
       "1        1.0      4.72     5.29\n",
       "2        2.0      4.45     5.23\n",
       "3        3.0      4.65     5.28\n",
       "4        4.0      4.45     5.28\n",
       "5        5.0      4.65     5.23\n",
       "6        6.0      4.74     5.29\n",
       "7        7.0      4.41     5.22\n",
       "8        8.0      4.67     5.28\n",
       "9        9.0      4.34     5.21"
      ]
     },
     "execution_count": 5,
     "metadata": {},
     "output_type": "execute_result"
    }
   ],
   "source": [
    "df_val = pd.read_csv(\"second_inference.csv\", skiprows=[1], usecols=['X', 'CH1', 'CH2'])\n",
    "df_val.loc[:, 'X'] *= period_ms\n",
    "\n",
    "# probes were in 10x scale, scope in 1x\n",
    "df_val.loc[:, 'CH1'] *= 10\n",
    "df_val.loc[:, 'CH2'] *= 10\n",
    "\n",
    "df_val.rename(index=str, columns={'X': 'time [ms]', 'CH1': 'vout [V]', 'CH2': 'vin [V]'}, inplace=True)\n",
    "df_val[:10]"
   ]
  },
  {
   "cell_type": "markdown",
   "metadata": {},
   "source": [
    "# Obtaining power consumption"
   ]
  },
  {
   "cell_type": "code",
   "execution_count": 6,
   "metadata": {},
   "outputs": [
    {
     "data": {
      "text/html": [
       "<div>\n",
       "<style scoped>\n",
       "    .dataframe tbody tr th:only-of-type {\n",
       "        vertical-align: middle;\n",
       "    }\n",
       "\n",
       "    .dataframe tbody tr th {\n",
       "        vertical-align: top;\n",
       "    }\n",
       "\n",
       "    .dataframe thead th {\n",
       "        text-align: right;\n",
       "    }\n",
       "</style>\n",
       "<table border=\"1\" class=\"dataframe\">\n",
       "  <thead>\n",
       "    <tr style=\"text-align: right;\">\n",
       "      <th></th>\n",
       "      <th>time [ms]</th>\n",
       "      <th>vout [V]</th>\n",
       "      <th>vin [V]</th>\n",
       "      <th>total curr [mA]</th>\n",
       "      <th>curr [mA]</th>\n",
       "      <th>total pow [mW]</th>\n",
       "      <th>pow [mW]</th>\n",
       "    </tr>\n",
       "  </thead>\n",
       "  <tbody>\n",
       "    <tr>\n",
       "      <th>0</th>\n",
       "      <td>0.0</td>\n",
       "      <td>4.39</td>\n",
       "      <td>5.22</td>\n",
       "      <td>518.75</td>\n",
       "      <td>318.75</td>\n",
       "      <td>2277.3125</td>\n",
       "      <td>1399.3125</td>\n",
       "    </tr>\n",
       "    <tr>\n",
       "      <th>1</th>\n",
       "      <td>1.0</td>\n",
       "      <td>4.72</td>\n",
       "      <td>5.29</td>\n",
       "      <td>356.25</td>\n",
       "      <td>156.25</td>\n",
       "      <td>1681.5000</td>\n",
       "      <td>737.5000</td>\n",
       "    </tr>\n",
       "    <tr>\n",
       "      <th>2</th>\n",
       "      <td>2.0</td>\n",
       "      <td>4.45</td>\n",
       "      <td>5.23</td>\n",
       "      <td>487.50</td>\n",
       "      <td>287.50</td>\n",
       "      <td>2169.3750</td>\n",
       "      <td>1279.3750</td>\n",
       "    </tr>\n",
       "    <tr>\n",
       "      <th>3</th>\n",
       "      <td>3.0</td>\n",
       "      <td>4.65</td>\n",
       "      <td>5.28</td>\n",
       "      <td>393.75</td>\n",
       "      <td>193.75</td>\n",
       "      <td>1830.9375</td>\n",
       "      <td>900.9375</td>\n",
       "    </tr>\n",
       "    <tr>\n",
       "      <th>4</th>\n",
       "      <td>4.0</td>\n",
       "      <td>4.45</td>\n",
       "      <td>5.28</td>\n",
       "      <td>518.75</td>\n",
       "      <td>318.75</td>\n",
       "      <td>2308.4375</td>\n",
       "      <td>1418.4375</td>\n",
       "    </tr>\n",
       "    <tr>\n",
       "      <th>5</th>\n",
       "      <td>5.0</td>\n",
       "      <td>4.65</td>\n",
       "      <td>5.23</td>\n",
       "      <td>362.50</td>\n",
       "      <td>162.50</td>\n",
       "      <td>1685.6250</td>\n",
       "      <td>755.6250</td>\n",
       "    </tr>\n",
       "    <tr>\n",
       "      <th>6</th>\n",
       "      <td>6.0</td>\n",
       "      <td>4.74</td>\n",
       "      <td>5.29</td>\n",
       "      <td>343.75</td>\n",
       "      <td>143.75</td>\n",
       "      <td>1629.3750</td>\n",
       "      <td>681.3750</td>\n",
       "    </tr>\n",
       "    <tr>\n",
       "      <th>7</th>\n",
       "      <td>7.0</td>\n",
       "      <td>4.41</td>\n",
       "      <td>5.22</td>\n",
       "      <td>506.25</td>\n",
       "      <td>306.25</td>\n",
       "      <td>2232.5625</td>\n",
       "      <td>1350.5625</td>\n",
       "    </tr>\n",
       "    <tr>\n",
       "      <th>8</th>\n",
       "      <td>8.0</td>\n",
       "      <td>4.67</td>\n",
       "      <td>5.28</td>\n",
       "      <td>381.25</td>\n",
       "      <td>181.25</td>\n",
       "      <td>1780.4375</td>\n",
       "      <td>846.4375</td>\n",
       "    </tr>\n",
       "    <tr>\n",
       "      <th>9</th>\n",
       "      <td>9.0</td>\n",
       "      <td>4.34</td>\n",
       "      <td>5.21</td>\n",
       "      <td>543.75</td>\n",
       "      <td>343.75</td>\n",
       "      <td>2359.8750</td>\n",
       "      <td>1491.8750</td>\n",
       "    </tr>\n",
       "  </tbody>\n",
       "</table>\n",
       "</div>"
      ],
      "text/plain": [
       "   time [ms]  vout [V]  vin [V]  total curr [mA]  curr [mA]  total pow [mW]  \\\n",
       "0        0.0      4.39     5.22           518.75     318.75       2277.3125   \n",
       "1        1.0      4.72     5.29           356.25     156.25       1681.5000   \n",
       "2        2.0      4.45     5.23           487.50     287.50       2169.3750   \n",
       "3        3.0      4.65     5.28           393.75     193.75       1830.9375   \n",
       "4        4.0      4.45     5.28           518.75     318.75       2308.4375   \n",
       "5        5.0      4.65     5.23           362.50     162.50       1685.6250   \n",
       "6        6.0      4.74     5.29           343.75     143.75       1629.3750   \n",
       "7        7.0      4.41     5.22           506.25     306.25       2232.5625   \n",
       "8        8.0      4.67     5.28           381.25     181.25       1780.4375   \n",
       "9        9.0      4.34     5.21           543.75     343.75       2359.8750   \n",
       "\n",
       "    pow [mW]  \n",
       "0  1399.3125  \n",
       "1   737.5000  \n",
       "2  1279.3750  \n",
       "3   900.9375  \n",
       "4  1418.4375  \n",
       "5   755.6250  \n",
       "6   681.3750  \n",
       "7  1350.5625  \n",
       "8   846.4375  \n",
       "9  1491.8750  "
      ]
     },
     "execution_count": 6,
     "metadata": {},
     "output_type": "execute_result"
    }
   ],
   "source": [
    "R = 1.6 # ohm\n",
    "static_curr = 200 # [mA] lowest value to avoid having negative power consumptions\n",
    "df_val['total curr [mA]'] = (df_val['vin [V]'] - df_val['vout [V]']) * 1000 / R\n",
    "df_val['curr [mA]'] = (df_val['vin [V]'] - df_val['vout [V]']) * 1000 / R - static_curr\n",
    "\n",
    "df_val['total pow [mW]'] = df_val['total curr [mA]'] * df_val['vout [V]']\n",
    "df_val['pow [mW]'] = df_val['curr [mA]'] * df_val['vout [V]']\n",
    "df_val[:10]"
   ]
  },
  {
   "cell_type": "code",
   "execution_count": 7,
   "metadata": {},
   "outputs": [
    {
     "data": {
      "text/plain": [
       "Text(0.5,1,'Power')"
      ]
     },
     "execution_count": 7,
     "metadata": {},
     "output_type": "execute_result"
    },
    {
     "data": {
      "image/png": "[encoded data removed]",
      "text/plain": [
       "<Figure size 600x400 with 2 Axes>"
      ]
     },
     "metadata": {},
     "output_type": "display_data"
    }
   ],
   "source": [
    "fig, (ax1, ax2) = plt.subplots(nrows=2, ncols=1, sharex=True, dpi=100)\n",
    "\n",
    "df_val.plot(ax=ax1, x='time [ms]', y='curr [mA]')\n",
    "ax1.set_title(\"Current\")\n",
    "df_val.plot(ax=ax2, x='time [ms]', y='pow [mW]')\n",
    "ax2.set_title(\"Power\")"
   ]
  },
  {
   "cell_type": "markdown",
   "metadata": {},
   "source": [
    "## Manually selecting when inference happens"
   ]
  },
  {
   "cell_type": "code",
   "execution_count": 8,
   "metadata": {},
   "outputs": [
    {
     "data": {
      "text/plain": [
       "<matplotlib.axes._subplots.AxesSubplot at 0x7f47f90894e0>"
      ]
     },
     "execution_count": 8,
     "metadata": {},
     "output_type": "execute_result"
    },
    {
     "data": {
      "image/png": "[encoded data removed]",
      "text/plain": [
       "<Figure size 432x288 with 1 Axes>"
      ]
     },
     "metadata": {},
     "output_type": "display_data"
    }
   ],
   "source": [
    "df_val = df_val.loc[df_val['time [ms]'] > 250]\n",
    "df_val = df_val.loc[df_val['time [ms]'] < 900]\n",
    "\n",
    "df_val.plot(x='time [ms]', y='curr [mA]')"
   ]
  },
  {
   "cell_type": "markdown",
   "metadata": {},
   "source": [
    "## Obtaining total energy consumption"
   ]
  },
  {
   "cell_type": "code",
   "execution_count": 9,
   "metadata": {},
   "outputs": [
    {
     "name": "stdout",
     "output_type": "stream",
     "text": [
      "Energy consumed during 1 inference:  0.047457 mAh\n",
      "Total energy consumed during 1 inference: 0.083512 mAh \n",
      "Peak power consumption 2090.812500 mW\n",
      "Total peak power consumption 2916.812500 mW\n"
     ]
    }
   ],
   "source": [
    "energy = df_val['curr [mA]'].sum() * period_ms # mA*ms\n",
    "energy /= (1000 * 3600) # mAh\n",
    "\n",
    "energy_tot = df_val['total curr [mA]'].sum() * period_ms # mA*ms\n",
    "energy_tot /= (1000 * 3600) # mAh\n",
    "\n",
    "max_power = max(df_val['pow [mW]'])\n",
    "max_power_tot = max(df_val['total pow [mW]'])\n",
    "\n",
    "print(\"Energy consumed during 1 inference:  %f mAh\" % energy)\n",
    "print(\"Total energy consumed during 1 inference: %f mAh \" % energy_tot)\n",
    "print(\"Peak power consumption %f mW\" % max_power)\n",
    "print(\"Total peak power consumption %f mW\" % max_power_tot)"
   ]
  },
  {
   "cell_type": "markdown",
   "metadata": {},
   "source": [
    "## Battery analysis"
   ]
  },
  {
   "cell_type": "code",
   "execution_count": 10,
   "metadata": {},
   "outputs": [
    {
     "name": "stdout",
     "output_type": "stream",
     "text": [
      "Max FPS = 1.572866\n"
     ]
    }
   ],
   "source": [
    "fps_max = 1/(latency/1000.0)\n",
    "print('Max FPS = %f' % fps_max)"
   ]
  },
  {
   "cell_type": "code",
   "execution_count": 11,
   "metadata": {},
   "outputs": [
    {
     "data": {
      "text/plain": [
       "[<matplotlib.lines.Line2D at 0x7f47f90db780>]"
      ]
     },
     "execution_count": 11,
     "metadata": {},
     "output_type": "execute_result"
    },
    {
     "data": {
      "image/png": "[encoded data removed]",
      "text/plain": [
       "<Figure size 432x288 with 1 Axes>"
      ]
     },
     "metadata": {},
     "output_type": "display_data"
    }
   ],
   "source": [
    "cap = range(500, 3500, 250) # Ranges of battery capacities we're interested on\n",
    "inf_num = (cap / energy)\n",
    "plt.title('Inferences per battery')\n",
    "plt.xlabel('Capacity (mAh)')\n",
    "plt.ylabel('Num of inferences')\n",
    "plt.plot(cap, inf_num, marker='o')"
   ]
  },
  {
   "cell_type": "code",
   "execution_count": 12,
   "metadata": {},
   "outputs": [
    {
     "name": "stdout",
     "output_type": "stream",
     "text": [
      "With 500 mAh, 10535 inferences can be done\n",
      "With 1000 mAh, 21071 inferences can be done\n",
      "With 1500 mAh, 31607 inferences can be done\n"
     ]
    }
   ],
   "source": [
    "print('With 500 mAh, %i inferences can be done' % inf_num[cap.index(500)])\n",
    "print('With 1000 mAh, %i inferences can be done' % inf_num[cap.index(1000)])\n",
    "print('With 1500 mAh, %i inferences can be done' % inf_num[cap.index(1500)])"
   ]
  },
  {
   "cell_type": "code",
   "execution_count": 13,
   "metadata": {},
   "outputs": [
    {
     "data": {
      "text/plain": [
       "[<matplotlib.lines.Line2D at 0x7f47f8f38a58>]"
      ]
     },
     "execution_count": 13,
     "metadata": {},
     "output_type": "execute_result"
    },
    {
     "data": {
      "image/png": "[encoded data removed]",
      "text/plain": [
       "<Figure size 432x288 with 1 Axes>"
      ]
     },
     "metadata": {},
     "output_type": "display_data"
    }
   ],
   "source": [
    "plt.title('Battery life @ FPS max')\n",
    "plt.xlabel('Capacity (mAh)')\n",
    "plt.ylabel('Battery life (min)')\n",
    "batt_life = inf_num/(fps_max * 60)\n",
    "plt.plot(cap, batt_life, marker='o')"
   ]
  },
  {
   "cell_type": "code",
   "execution_count": 14,
   "metadata": {},
   "outputs": [
    {
     "name": "stdout",
     "output_type": "stream",
     "text": [
      "A 500 mAh battery lasts 111 min\n",
      "A 1000 mAh battery lasts 223 min\n",
      "A 1500 mAh battery lasts 334 min\n"
     ]
    }
   ],
   "source": [
    "print('A 500 mAh battery lasts %i min' % batt_life[cap.index(500)])\n",
    "print('A 1000 mAh battery lasts %i min' % batt_life[cap.index(1000)])\n",
    "print('A 1500 mAh battery lasts %i min' % batt_life[cap.index(1500)])"
   ]
  }
 ],
 "metadata": {
  "kernelspec": {
   "display_name": "Python 3",
   "language": "python",
   "name": "python3"
  },
  "language_info": {
   "codemirror_mode": {
    "name": "ipython",
    "version": 3
   },
   "file_extension": ".py",
   "mimetype": "text/x-python",
   "name": "python",
   "nbconvert_exporter": "python",
   "pygments_lexer": "ipython3",
   "version": "3.6.5"
  }
 },
 "nbformat": 4,
 "nbformat_minor": 2
}
