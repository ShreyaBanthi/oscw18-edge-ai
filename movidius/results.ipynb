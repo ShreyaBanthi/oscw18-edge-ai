{
 "cells": [
  {
   "cell_type": "markdown",
   "metadata": {},
   "source": [
    "# Benchmarking Raspberry Pi + Intel Movidius using Inception v1"
   ]
  },
  {
   "cell_type": "markdown",
   "metadata": {},
   "source": [
    "# Environment setup\n",
    "To measure the current consumption I measured the voltage drop in a resistor.\n",
    "* The resistor was supposed to be 1 Ohm ± 1% ([RS0051R000FE12](https://www.mouser.es/productdetail/vishay-dale/rs0051r000fe12?qs=%252b%2f1MMOhkBTf5JUBsk0YDOg==)), but when measuring with the multimiter it turned out to be 1.6 Ohms.\n",
    "* The 10x attenuator was enabled in the oscilloscope probes but not on the scope. This means that to obtain the real voltages, the data has to be multiplied by ten.\n",
    "* The voltage input was actually not 5V. It was a bit higher to feed the Raspberry Pi with a value closer to 5V when the current consumption increased.\n",
    "* The static current consumption of the setup before starting the inference (i.e. before executing `make VERSION=V1 infer`) was between 200 and 300 mA. This is the power drained by Raspberry Pi B+ v1.2 running clean Raspbian (with the Movidius tools installed), connected through Ethernet.\n",
    "\n",
    "![Setup](measurements/setup.png)"
   ]
  },
  {
   "cell_type": "markdown",
   "metadata": {},
   "source": [
    "## Screenshot from the oscilloscope\n",
    "This screenshot shows the entire duration of the command `make VERSION=v1 infer`. The data that we will be using from the CSV corresponds to the second peak and each peak corresponds to one inference. Since the first one initialises some data structures that will be reused in the upcoming inferences, we discard it because usually we would not be performing a single analysis. \n",
    "\n",
    "![2x inferences](measurements/v1/2x_inferences.png)"
   ]
  },
  {
   "cell_type": "code",
   "execution_count": 1,
   "metadata": {},
   "outputs": [],
   "source": [
    "%matplotlib inline\n",
    "import pandas as pd\n",
    "\n",
    "import matplotlib\n",
    "import matplotlib.pyplot as plt"
   ]
  },
  {
   "cell_type": "markdown",
   "metadata": {},
   "source": [
    "## Output (accuracy and latency)"
   ]
  },
  {
   "cell_type": "code",
   "execution_count": 2,
   "metadata": {},
   "outputs": [
    {
     "name": "stdout",
     "output_type": "stream",
     "text": [
      "pi@raspberrypi:~/oscw18-edge-ai/movidius $ make VERSION=v1 infer INPUT=data/pic_002.jpg \n",
      "\n",
      "Running inferences on data/pic_002.jpg...\n",
      "(python3 image-classifier.py --graph ./model/v1/inception_v1_ncgraph --dim 224 224 --mean 127.5 --scale 0.00789 --colormode \"RGB\" --labels ./model/v1/labels.txt --image data/pic_002.jpg)\n",
      "\n",
      "==============================================================\n",
      "Top predictions for pic_002.jpg\n",
      "Execution time: 88.4408ms\n",
      "--------------------------------------------------------------\n",
      "73.8%   288:lynx, catamount\n",
      "8.3%    283:tiger cat\n",
      "4.9%    282:tabby, tabby cat\n",
      "4.3%    284:Persian cat\n",
      "1.2%    286:Egyptian cat\n",
      "==============================================================\n"
     ]
    }
   ],
   "source": [
    "! cat measurements/v1/output.txt"
   ]
  },
  {
   "cell_type": "markdown",
   "metadata": {},
   "source": [
    "## Parse raw data "
   ]
  },
  {
   "cell_type": "code",
   "execution_count": 3,
   "metadata": {},
   "outputs": [
    {
     "data": {
      "text/plain": [
       "0.1"
      ]
     },
     "execution_count": 3,
     "metadata": {},
     "output_type": "execute_result"
    }
   ],
   "source": [
    "df_params = pd.read_csv(\"measurements/v1/second_inference.csv\", nrows=1, usecols=['Start', 'Increment'])\n",
    "period_ms = df_params['Increment'][0] * 1000\n",
    "period_ms"
   ]
  },
  {
   "cell_type": "code",
   "execution_count": 4,
   "metadata": {},
   "outputs": [
    {
     "data": {
      "text/html": [
       "<div>\n",
       "<style scoped>\n",
       "    .dataframe tbody tr th:only-of-type {\n",
       "        vertical-align: middle;\n",
       "    }\n",
       "\n",
       "    .dataframe tbody tr th {\n",
       "        vertical-align: top;\n",
       "    }\n",
       "\n",
       "    .dataframe thead th {\n",
       "        text-align: right;\n",
       "    }\n",
       "</style>\n",
       "<table border=\"1\" class=\"dataframe\">\n",
       "  <thead>\n",
       "    <tr style=\"text-align: right;\">\n",
       "      <th></th>\n",
       "      <th>time [ms]</th>\n",
       "      <th>vout [V]</th>\n",
       "      <th>vin [V]</th>\n",
       "    </tr>\n",
       "  </thead>\n",
       "  <tbody>\n",
       "    <tr>\n",
       "      <th>0</th>\n",
       "      <td>0.0</td>\n",
       "      <td>4.86</td>\n",
       "      <td>5.27</td>\n",
       "    </tr>\n",
       "    <tr>\n",
       "      <th>1</th>\n",
       "      <td>0.1</td>\n",
       "      <td>4.90</td>\n",
       "      <td>5.32</td>\n",
       "    </tr>\n",
       "    <tr>\n",
       "      <th>2</th>\n",
       "      <td>0.2</td>\n",
       "      <td>4.90</td>\n",
       "      <td>5.28</td>\n",
       "    </tr>\n",
       "    <tr>\n",
       "      <th>3</th>\n",
       "      <td>0.3</td>\n",
       "      <td>4.86</td>\n",
       "      <td>5.32</td>\n",
       "    </tr>\n",
       "    <tr>\n",
       "      <th>4</th>\n",
       "      <td>0.4</td>\n",
       "      <td>4.89</td>\n",
       "      <td>5.32</td>\n",
       "    </tr>\n",
       "    <tr>\n",
       "      <th>5</th>\n",
       "      <td>0.5</td>\n",
       "      <td>4.86</td>\n",
       "      <td>5.27</td>\n",
       "    </tr>\n",
       "    <tr>\n",
       "      <th>6</th>\n",
       "      <td>0.6</td>\n",
       "      <td>4.86</td>\n",
       "      <td>5.32</td>\n",
       "    </tr>\n",
       "    <tr>\n",
       "      <th>7</th>\n",
       "      <td>0.7</td>\n",
       "      <td>4.89</td>\n",
       "      <td>5.28</td>\n",
       "    </tr>\n",
       "    <tr>\n",
       "      <th>8</th>\n",
       "      <td>0.8</td>\n",
       "      <td>4.86</td>\n",
       "      <td>5.32</td>\n",
       "    </tr>\n",
       "    <tr>\n",
       "      <th>9</th>\n",
       "      <td>0.9</td>\n",
       "      <td>4.89</td>\n",
       "      <td>5.27</td>\n",
       "    </tr>\n",
       "  </tbody>\n",
       "</table>\n",
       "</div>"
      ],
      "text/plain": [
       "   time [ms]  vout [V]  vin [V]\n",
       "0        0.0      4.86     5.27\n",
       "1        0.1      4.90     5.32\n",
       "2        0.2      4.90     5.28\n",
       "3        0.3      4.86     5.32\n",
       "4        0.4      4.89     5.32\n",
       "5        0.5      4.86     5.27\n",
       "6        0.6      4.86     5.32\n",
       "7        0.7      4.89     5.28\n",
       "8        0.8      4.86     5.32\n",
       "9        0.9      4.89     5.27"
      ]
     },
     "execution_count": 4,
     "metadata": {},
     "output_type": "execute_result"
    }
   ],
   "source": [
    "df_val = pd.read_csv(\"measurements/v1/second_inference.csv\", skiprows=[1], usecols=['X', 'CH1', 'CH2'])\n",
    "df_val.loc[:, 'X'] *= period_ms\n",
    "\n",
    "# probes were in 10x scale, scope in 1x\n",
    "df_val.loc[:, 'CH1'] *= 10\n",
    "df_val.loc[:, 'CH2'] *= 10\n",
    "\n",
    "df_val.rename(index=str, columns={'X': 'time [ms]', 'CH1': 'vout [V]', 'CH2': 'vin [V]'}, inplace=True)\n",
    "df_val[:10]"
   ]
  },
  {
   "cell_type": "markdown",
   "metadata": {},
   "source": [
    "# Obtaining power consumption"
   ]
  },
  {
   "cell_type": "code",
   "execution_count": 5,
   "metadata": {},
   "outputs": [
    {
     "data": {
      "text/html": [
       "<div>\n",
       "<style scoped>\n",
       "    .dataframe tbody tr th:only-of-type {\n",
       "        vertical-align: middle;\n",
       "    }\n",
       "\n",
       "    .dataframe tbody tr th {\n",
       "        vertical-align: top;\n",
       "    }\n",
       "\n",
       "    .dataframe thead th {\n",
       "        text-align: right;\n",
       "    }\n",
       "</style>\n",
       "<table border=\"1\" class=\"dataframe\">\n",
       "  <thead>\n",
       "    <tr style=\"text-align: right;\">\n",
       "      <th></th>\n",
       "      <th>time [ms]</th>\n",
       "      <th>vout [V]</th>\n",
       "      <th>vin [V]</th>\n",
       "      <th>total curr [mA]</th>\n",
       "      <th>curr [mA]</th>\n",
       "      <th>total pow [mW]</th>\n",
       "      <th>pow [mW]</th>\n",
       "    </tr>\n",
       "  </thead>\n",
       "  <tbody>\n",
       "    <tr>\n",
       "      <th>0</th>\n",
       "      <td>0.0</td>\n",
       "      <td>4.86</td>\n",
       "      <td>5.27</td>\n",
       "      <td>256.25</td>\n",
       "      <td>56.25</td>\n",
       "      <td>1245.3750</td>\n",
       "      <td>273.3750</td>\n",
       "    </tr>\n",
       "    <tr>\n",
       "      <th>1</th>\n",
       "      <td>0.1</td>\n",
       "      <td>4.90</td>\n",
       "      <td>5.32</td>\n",
       "      <td>262.50</td>\n",
       "      <td>62.50</td>\n",
       "      <td>1286.2500</td>\n",
       "      <td>306.2500</td>\n",
       "    </tr>\n",
       "    <tr>\n",
       "      <th>2</th>\n",
       "      <td>0.2</td>\n",
       "      <td>4.90</td>\n",
       "      <td>5.28</td>\n",
       "      <td>237.50</td>\n",
       "      <td>37.50</td>\n",
       "      <td>1163.7500</td>\n",
       "      <td>183.7500</td>\n",
       "    </tr>\n",
       "    <tr>\n",
       "      <th>3</th>\n",
       "      <td>0.3</td>\n",
       "      <td>4.86</td>\n",
       "      <td>5.32</td>\n",
       "      <td>287.50</td>\n",
       "      <td>87.50</td>\n",
       "      <td>1397.2500</td>\n",
       "      <td>425.2500</td>\n",
       "    </tr>\n",
       "    <tr>\n",
       "      <th>4</th>\n",
       "      <td>0.4</td>\n",
       "      <td>4.89</td>\n",
       "      <td>5.32</td>\n",
       "      <td>268.75</td>\n",
       "      <td>68.75</td>\n",
       "      <td>1314.1875</td>\n",
       "      <td>336.1875</td>\n",
       "    </tr>\n",
       "    <tr>\n",
       "      <th>5</th>\n",
       "      <td>0.5</td>\n",
       "      <td>4.86</td>\n",
       "      <td>5.27</td>\n",
       "      <td>256.25</td>\n",
       "      <td>56.25</td>\n",
       "      <td>1245.3750</td>\n",
       "      <td>273.3750</td>\n",
       "    </tr>\n",
       "    <tr>\n",
       "      <th>6</th>\n",
       "      <td>0.6</td>\n",
       "      <td>4.86</td>\n",
       "      <td>5.32</td>\n",
       "      <td>287.50</td>\n",
       "      <td>87.50</td>\n",
       "      <td>1397.2500</td>\n",
       "      <td>425.2500</td>\n",
       "    </tr>\n",
       "    <tr>\n",
       "      <th>7</th>\n",
       "      <td>0.7</td>\n",
       "      <td>4.89</td>\n",
       "      <td>5.28</td>\n",
       "      <td>243.75</td>\n",
       "      <td>43.75</td>\n",
       "      <td>1191.9375</td>\n",
       "      <td>213.9375</td>\n",
       "    </tr>\n",
       "    <tr>\n",
       "      <th>8</th>\n",
       "      <td>0.8</td>\n",
       "      <td>4.86</td>\n",
       "      <td>5.32</td>\n",
       "      <td>287.50</td>\n",
       "      <td>87.50</td>\n",
       "      <td>1397.2500</td>\n",
       "      <td>425.2500</td>\n",
       "    </tr>\n",
       "    <tr>\n",
       "      <th>9</th>\n",
       "      <td>0.9</td>\n",
       "      <td>4.89</td>\n",
       "      <td>5.27</td>\n",
       "      <td>237.50</td>\n",
       "      <td>37.50</td>\n",
       "      <td>1161.3750</td>\n",
       "      <td>183.3750</td>\n",
       "    </tr>\n",
       "  </tbody>\n",
       "</table>\n",
       "</div>"
      ],
      "text/plain": [
       "   time [ms]  vout [V]  vin [V]  total curr [mA]  curr [mA]  total pow [mW]  \\\n",
       "0        0.0      4.86     5.27           256.25      56.25       1245.3750   \n",
       "1        0.1      4.90     5.32           262.50      62.50       1286.2500   \n",
       "2        0.2      4.90     5.28           237.50      37.50       1163.7500   \n",
       "3        0.3      4.86     5.32           287.50      87.50       1397.2500   \n",
       "4        0.4      4.89     5.32           268.75      68.75       1314.1875   \n",
       "5        0.5      4.86     5.27           256.25      56.25       1245.3750   \n",
       "6        0.6      4.86     5.32           287.50      87.50       1397.2500   \n",
       "7        0.7      4.89     5.28           243.75      43.75       1191.9375   \n",
       "8        0.8      4.86     5.32           287.50      87.50       1397.2500   \n",
       "9        0.9      4.89     5.27           237.50      37.50       1161.3750   \n",
       "\n",
       "   pow [mW]  \n",
       "0  273.3750  \n",
       "1  306.2500  \n",
       "2  183.7500  \n",
       "3  425.2500  \n",
       "4  336.1875  \n",
       "5  273.3750  \n",
       "6  425.2500  \n",
       "7  213.9375  \n",
       "8  425.2500  \n",
       "9  183.3750  "
      ]
     },
     "execution_count": 5,
     "metadata": {},
     "output_type": "execute_result"
    }
   ],
   "source": [
    "R = 1.6 # ohm\n",
    "static_curr = 200 # [mA] lowest value to avoid having negative power consumptions\n",
    "df_val['total curr [mA]'] = (df_val['vin [V]'] - df_val['vout [V]']) * 1000 / R\n",
    "df_val['curr [mA]'] = (df_val['vin [V]'] - df_val['vout [V]']) * 1000 / R - static_curr\n",
    "\n",
    "df_val['total pow [mW]'] = df_val['total curr [mA]'] * df_val['vout [V]']\n",
    "df_val['pow [mW]'] = df_val['curr [mA]'] * df_val['vout [V]']\n",
    "df_val[:10]"
   ]
  },
  {
   "cell_type": "code",
   "execution_count": 6,
   "metadata": {},
   "outputs": [
    {
     "data": {
      "text/plain": [
       "Text(0.5,1,'Power')"
      ]
     },
     "execution_count": 6,
     "metadata": {},
     "output_type": "execute_result"
    },
    {
     "data": {
      "image/png": "[encoded data removed]",
      "text/plain": [
       "<Figure size 600x400 with 2 Axes>"
      ]
     },
     "metadata": {},
     "output_type": "display_data"
    }
   ],
   "source": [
    "fig, (ax1, ax2) = plt.subplots(nrows=2, ncols=1, sharex=True, dpi=100)\n",
    "\n",
    "df_val.plot(ax=ax1, x='time [ms]', y='curr [mA]')\n",
    "ax1.set_title(\"Current\")\n",
    "df_val.plot(ax=ax2, x='time [ms]', y='pow [mW]')\n",
    "ax2.set_title(\"Power\")"
   ]
  },
  {
   "cell_type": "markdown",
   "metadata": {},
   "source": [
    "## Obtaining total energy consumption"
   ]
  },
  {
   "cell_type": "code",
   "execution_count": 7,
   "metadata": {},
   "outputs": [
    {
     "name": "stdout",
     "output_type": "stream",
     "text": [
      "Energy consumed during 1 inference  0.006510243055555561\n",
      "Total energy consumed during 1 inference  0.013176909722222229\n"
     ]
    }
   ],
   "source": [
    "energy = df_val['curr [mA]'].sum() * period_ms # mA*ms\n",
    "energy /= (1000 * 3600) # mAh\n",
    "\n",
    "energy_tot = df_val['total curr [mA]'].sum() * period_ms # mA*ms\n",
    "energy_tot /= (1000 * 3600) # mAh\n",
    "\n",
    "print(\"Energy consumed during 1 inference \", energy)\n",
    "print(\"Total energy consumed during 1 inference \", energy_tot)"
   ]
  },
  {
   "cell_type": "code",
   "execution_count": 8,
   "metadata": {},
   "outputs": [],
   "source": [
    "# TODO how many inferences could we do in 1 hour\n",
    "# TODO how many inferences could we do with a 1000 mAh battery (graph with many typical battery capacities)\n",
    "# TODO peak power consumption (total and without taking into account static consumption)\n",
    "# TODO discard current values before the inference (peak) starts"
   ]
  }
 ],
 "metadata": {
  "kernelspec": {
   "display_name": "Python 3",
   "language": "python",
   "name": "python3"
  },
  "language_info": {
   "codemirror_mode": {
    "name": "ipython",
    "version": 3
   },
   "file_extension": ".py",
   "mimetype": "text/x-python",
   "name": "python",
   "nbconvert_exporter": "python",
   "pygments_lexer": "ipython3",
   "version": "3.6.5"
  }
 },
 "nbformat": 4,
 "nbformat_minor": 2
}
